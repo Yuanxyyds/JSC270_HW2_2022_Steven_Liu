{
  "nbformat": 4,
  "nbformat_minor": 0,
  "metadata": {
    "colab": {
      "name": "Assignment2.ipynb",
      "provenance": [],
      "collapsed_sections": [
        "7soO9Ni682e0",
        "J5ksBT6D874z"
      ],
      "authorship_tag": "ABX9TyNt02Bmms307k9qqEPWL/VO",
      "include_colab_link": true
    },
    "kernelspec": {
      "name": "python3",
      "display_name": "Python 3"
    },
    "language_info": {
      "name": "python"
    }
  },
  "cells": [
    {
      "cell_type": "markdown",
      "metadata": {
        "id": "view-in-github",
        "colab_type": "text"
      },
      "source": [
        "<a href=\"https://colab.research.google.com/github/Yuanxyyds/JSC270_HW2_2022_Steven_Liu/blob/main/Assignment2.ipynb\" target=\"_parent\"><img src=\"https://colab.research.google.com/assets/colab-badge.svg\" alt=\"Open In Colab\"/></a>"
      ]
    },
    {
      "cell_type": "markdown",
      "source": [
        "PART II"
      ],
      "metadata": {
        "id": "OSajJaXc-2-6"
      }
    },
    {
      "cell_type": "markdown",
      "source": [
        "# Import Libraries"
      ],
      "metadata": {
        "id": "7soO9Ni682e0"
      }
    },
    {
      "cell_type": "code",
      "execution_count": 129,
      "metadata": {
        "id": "yHzFxX5i7MwI"
      },
      "outputs": [],
      "source": [
        "import pandas as pd\n",
        "import numpy as np\n",
        "import matplotlib.pyplot as plt\n",
        "import seaborn as sns\n",
        "from scipy import stats\n",
        "from scipy.stats.stats import pearsonr\n",
        "import statsmodels.api as sm\n",
        "import statsmodels.formula.api as smf"
      ]
    },
    {
      "cell_type": "markdown",
      "source": [
        "# Importing Data"
      ],
      "metadata": {
        "id": "J5ksBT6D874z"
      }
    },
    {
      "cell_type": "code",
      "source": [
        "income94 = pd.read_csv('https://archive.ics.uci.edu/ml/machine-learning-databases/adult/adult.data', header=None)\n",
        "income94.columns = ['age','workclass', 'fnlwgt','education','education_num','marital_status','occupation',\n",
        "                    'relationship','race','sex','capital_gain','capital_loss','hours_per_week','native_country','gross_income_group']"
      ],
      "metadata": {
        "id": "3Zkpx2Mm8F1F"
      },
      "execution_count": 130,
      "outputs": []
    },
    {
      "cell_type": "markdown",
      "source": [
        "# Initial Data Exploration"
      ],
      "metadata": {
        "id": "F9Yw25F19CeK"
      }
    },
    {
      "cell_type": "markdown",
      "source": [
        "1. Check the columns of your data. Are they the expected data types based on their descriptions in this text file description of the data?\n"
      ],
      "metadata": {
        "id": "teIo5-FR9hBH"
      }
    },
    {
      "cell_type": "code",
      "source": [
        "income94.info()"
      ],
      "metadata": {
        "colab": {
          "base_uri": "https://localhost:8080/"
        },
        "id": "C_JOPF8i9j_S",
        "outputId": "5cf81c1e-b451-4d19-e951-8ab544465b1e"
      },
      "execution_count": 131,
      "outputs": [
        {
          "output_type": "stream",
          "name": "stdout",
          "text": [
            "<class 'pandas.core.frame.DataFrame'>\n",
            "RangeIndex: 32561 entries, 0 to 32560\n",
            "Data columns (total 15 columns):\n",
            " #   Column              Non-Null Count  Dtype \n",
            "---  ------              --------------  ----- \n",
            " 0   age                 32561 non-null  int64 \n",
            " 1   workclass           32561 non-null  object\n",
            " 2   fnlwgt              32561 non-null  int64 \n",
            " 3   education           32561 non-null  object\n",
            " 4   education_num       32561 non-null  int64 \n",
            " 5   marital_status      32561 non-null  object\n",
            " 6   occupation          32561 non-null  object\n",
            " 7   relationship        32561 non-null  object\n",
            " 8   race                32561 non-null  object\n",
            " 9   sex                 32561 non-null  object\n",
            " 10  capital_gain        32561 non-null  int64 \n",
            " 11  capital_loss        32561 non-null  int64 \n",
            " 12  hours_per_week      32561 non-null  int64 \n",
            " 13  native_country      32561 non-null  object\n",
            " 14  gross_income_group  32561 non-null  object\n",
            "dtypes: int64(6), object(9)\n",
            "memory usage: 3.7+ MB\n"
          ]
        }
      ]
    },
    {
      "cell_type": "markdown",
      "source": [
        "2. How are missing values represented in this data? Cast missing values to np.nan, if necessary. Count the number of missing values in each column."
      ],
      "metadata": {
        "id": "BuKAfOxAAEyZ"
      }
    },
    {
      "cell_type": "code",
      "source": [
        "income94 = income94.replace(' ?', np.nan)\n",
        "income94.isna().sum().sum()"
      ],
      "metadata": {
        "colab": {
          "base_uri": "https://localhost:8080/"
        },
        "id": "TtfJEVPpDs1A",
        "outputId": "67418203-0600-4657-ccb5-9b14607290f0"
      },
      "execution_count": 132,
      "outputs": [
        {
          "output_type": "execute_result",
          "data": {
            "text/plain": [
              "4262"
            ]
          },
          "metadata": {},
          "execution_count": 132
        }
      ]
    },
    {
      "cell_type": "code",
      "source": [
        "income94.isna().sum()"
      ],
      "metadata": {
        "colab": {
          "base_uri": "https://localhost:8080/"
        },
        "id": "F0nM_vikHCAK",
        "outputId": "a94a411c-3139-4430-e538-cc339c4ea775"
      },
      "execution_count": 133,
      "outputs": [
        {
          "output_type": "execute_result",
          "data": {
            "text/plain": [
              "age                      0\n",
              "workclass             1836\n",
              "fnlwgt                   0\n",
              "education                0\n",
              "education_num            0\n",
              "marital_status           0\n",
              "occupation            1843\n",
              "relationship             0\n",
              "race                     0\n",
              "sex                      0\n",
              "capital_gain             0\n",
              "capital_loss             0\n",
              "hours_per_week           0\n",
              "native_country         583\n",
              "gross_income_group       0\n",
              "dtype: int64"
            ]
          },
          "metadata": {},
          "execution_count": 133
        }
      ]
    },
    {
      "cell_type": "markdown",
      "source": [
        "3.\tIndividually plot the distributions of capital_gain and capital_loss.  Do you think these variables should be transformed to categorical variables? Why or why not? If yes, create a new variable(s) with your suggested transformation and plot or describe in a table the distribution of the new categorical variable(s)."
      ],
      "metadata": {
        "id": "QnzX6wqbHTvJ"
      }
    },
    {
      "cell_type": "code",
      "source": [
        "income94['capital_loss'].hist(bins =30)\n",
        "plt.title('Histogram showing count of Capital loss')\n",
        "plt.xlabel('Capital loss')\n",
        "plt.ylabel('count')\n",
        "plt.show()"
      ],
      "metadata": {
        "colab": {
          "base_uri": "https://localhost:8080/",
          "height": 295
        },
        "id": "ViAUuPPdHkS5",
        "outputId": "e1423cd8-a50e-481a-fca1-945edad6c9af"
      },
      "execution_count": 134,
      "outputs": [
        {
          "output_type": "display_data",
          "data": {
            "image/png": "[encoded data removed]",
            "text/plain": [
              "<Figure size 432x288 with 1 Axes>"
            ]
          },
          "metadata": {
            "needs_background": "light"
          }
        }
      ]
    },
    {
      "cell_type": "code",
      "source": [
        "income94['capital_gain'].hist(bins =30)\n",
        "plt.title('Histogram showing count of Capital gain')\n",
        "plt.xlabel('Capital gain')\n",
        "plt.ylabel('count')\n",
        "plt.show()"
      ],
      "metadata": {
        "colab": {
          "base_uri": "https://localhost:8080/",
          "height": 295
        },
        "id": "s9anB3HhJT_R",
        "outputId": "c1cf3a67-890d-44de-f9d8-4ebdd6b29ad1"
      },
      "execution_count": 135,
      "outputs": [
        {
          "output_type": "display_data",
          "data": {
            "image/png": "[encoded data removed]",
            "text/plain": [
              "<Figure size 432x288 with 1 Axes>"
            ]
          },
          "metadata": {
            "needs_background": "light"
          }
        }
      ]
    },
    {
      "cell_type": "code",
      "source": [
        "income94[income94.capital_gain > 0]['capital_gain'].hist(bins =30)"
      ],
      "metadata": {
        "colab": {
          "base_uri": "https://localhost:8080/",
          "height": 283
        },
        "id": "PdfoXCLVQlDC",
        "outputId": "5f93ae69-eacf-4eac-81a5-08375fef2c23"
      },
      "execution_count": 136,
      "outputs": [
        {
          "output_type": "execute_result",
          "data": {
            "text/plain": [
              "<matplotlib.axes._subplots.AxesSubplot at 0x7f0c5187ed10>"
            ]
          },
          "metadata": {},
          "execution_count": 136
        },
        {
          "output_type": "display_data",
          "data": {
            "image/png": "[encoded data removed]",
            "text/plain": [
              "<Figure size 432x288 with 1 Axes>"
            ]
          },
          "metadata": {
            "needs_background": "light"
          }
        }
      ]
    },
    {
      "cell_type": "code",
      "source": [
        "def func(x):\n",
        "    if x == 0:\n",
        "        return 'zero'\n",
        "    elif 0 < x <= 500:\n",
        "        return '0-500'\n",
        "    elif 500 < x <= 1000:\n",
        "        return '500-1000'\n",
        "    elif 1000 < x <= 1500:\n",
        "        return '1000-1500'\n",
        "    elif 1500 < x <= 2000:\n",
        "        return '1500-2000'\n",
        "    elif 2000 < x <= 2500:\n",
        "        return '2000-2500'\n",
        "    elif 2500 < x <= 3000:\n",
        "        return '2500-3000'\n",
        "    elif 3000 < x <= 3500:\n",
        "        return '3000-3500'\n",
        "    else:\n",
        "        return '3500+'\n",
        "income94['capital_loss_cat'] = income94['capital_loss'].apply(func)\n",
        "income94[income94.capital_loss_cat != 'zero']['capital_loss_cat'].sort_values()\\\n",
        ".value_counts().plot(kind = 'bar')"
      ],
      "metadata": {
        "colab": {
          "base_uri": "https://localhost:8080/",
          "height": 327
        },
        "id": "omg-vq_UNESH",
        "outputId": "aba88da7-5188-4f60-fcea-8a7bd55d33fe"
      },
      "execution_count": 137,
      "outputs": [
        {
          "output_type": "execute_result",
          "data": {
            "text/plain": [
              "<matplotlib.axes._subplots.AxesSubplot at 0x7f0c517a5c90>"
            ]
          },
          "metadata": {},
          "execution_count": 137
        },
        {
          "output_type": "display_data",
          "data": {
            "image/png": "[encoded data removed]",
            "text/plain": [
              "<Figure size 432x288 with 1 Axes>"
            ]
          },
          "metadata": {
            "needs_background": "light"
          }
        }
      ]
    },
    {
      "cell_type": "code",
      "source": [
        "def func2(x):\n",
        "    if x == 0:\n",
        "        return 'zero'\n",
        "    elif 0 < x <= 2500:\n",
        "        return '0-2500'\n",
        "    elif 2500 < x <= 5000:\n",
        "        return '2500-5000'\n",
        "    elif 5000 < x <= 7500:\n",
        "        return '5000-7500'\n",
        "    elif 7500 < x <= 10000:\n",
        "        return '7500-10000'\n",
        "    elif 10000 < x <= 12500:\n",
        "        return '10000-12500'\n",
        "    elif 12500 < x <= 15000:\n",
        "        return '12500-15000'\n",
        "    elif 15000 < x <= 17500:\n",
        "        return '15000-17500'\n",
        "    elif 17500 < x <= 20000:\n",
        "        return '17500-20000'\n",
        "    elif 20000 < x <= 22500:\n",
        "        return '20000-22500'\n",
        "    elif 22500 < x <= 25000:\n",
        "        return '22500-25000'\n",
        "    else:\n",
        "        return '25000+'\n",
        "income94['capital_gain_cat'] = income94['capital_gain'].apply(func2)\n",
        "income94[income94.capital_gain_cat != 'zero']['capital_gain_cat']\\\n",
        ".value_counts().plot(kind = 'bar')"
      ],
      "metadata": {
        "colab": {
          "base_uri": "https://localhost:8080/",
          "height": 340
        },
        "id": "pJHBKAg9Xkm8",
        "outputId": "b70a9fec-b7bb-43d3-ba88-3907e4e87342"
      },
      "execution_count": 138,
      "outputs": [
        {
          "output_type": "execute_result",
          "data": {
            "text/plain": [
              "<matplotlib.axes._subplots.AxesSubplot at 0x7f0c51736690>"
            ]
          },
          "metadata": {},
          "execution_count": 138
        },
        {
          "output_type": "display_data",
          "data": {
            "image/png": "[encoded data removed]",
            "text/plain": [
              "<Figure size 432x288 with 1 Axes>"
            ]
          },
          "metadata": {
            "needs_background": "light"
          }
        }
      ]
    },
    {
      "cell_type": "markdown",
      "source": [
        "4. The sampling weights in the dataset are contained in the variable fnlwgt. The weights indicate the share of the population that sample represents based on location (and sometimes, other factors).  More information is provided in this text file description of the data. Plot or numerically explore the distribution of fnlwgt. Is the variable symmetrically distributed? Compare the distribution of this variable between men and women and comment on any trends you notice. Should outliers be excluded? If you think yes, set the fnlwgt values for those you deem to be outliers as missing for the remainder of your analyses.\n"
      ],
      "metadata": {
        "id": "VEmXoIxlZolS"
      }
    },
    {
      "cell_type": "code",
      "source": [
        "income94['fnlwgt'].hist(bins =30)\n",
        "plt.title('Histogram showing the count of fnlwgt')\n",
        "plt.xlabel('fnlwgt')\n",
        "plt.ylabel('count')\n",
        "plt.show()"
      ],
      "metadata": {
        "colab": {
          "base_uri": "https://localhost:8080/",
          "height": 295
        },
        "id": "y_gw-bmRZqjK",
        "outputId": "d1c1934e-033a-48c8-b448-e659a236dbdc"
      },
      "execution_count": 139,
      "outputs": [
        {
          "output_type": "display_data",
          "data": {
            "image/png": "[encoded data removed]",
            "text/plain": [
              "<Figure size 432x288 with 1 Axes>"
            ]
          },
          "metadata": {
            "needs_background": "light"
          }
        }
      ]
    },
    {
      "cell_type": "code",
      "source": [
        "income94[income94.sex == ' Male']['fnlwgt'].hist(bins =30)\n",
        "plt.title('Histogram showing the count of fnlwgt of Male')\n",
        "plt.xlabel('fnlwgt')\n",
        "plt.ylabel('count')\n",
        "plt.show()"
      ],
      "metadata": {
        "colab": {
          "base_uri": "https://localhost:8080/",
          "height": 295
        },
        "id": "kW6Bu_TgbAOE",
        "outputId": "7a8dfc60-7a92-467a-a60f-c275e5a4716e"
      },
      "execution_count": 140,
      "outputs": [
        {
          "output_type": "display_data",
          "data": {
            "image/png": "[encoded data removed]",
            "text/plain": [
              "<Figure size 432x288 with 1 Axes>"
            ]
          },
          "metadata": {
            "needs_background": "light"
          }
        }
      ]
    },
    {
      "cell_type": "code",
      "source": [
        "income94[income94.sex == ' Female']['fnlwgt'].hist(bins =30)\n",
        "plt.title('Histogram showing the count of fnlwgt of Female')\n",
        "plt.xlabel('fnlwgt')\n",
        "plt.ylabel('count')\n",
        "plt.show()"
      ],
      "metadata": {
        "colab": {
          "base_uri": "https://localhost:8080/",
          "height": 295
        },
        "id": "31HnDC9RbUsX",
        "outputId": "15ce923d-aabf-462d-d813-586312a54817"
      },
      "execution_count": 141,
      "outputs": [
        {
          "output_type": "display_data",
          "data": {
            "image/png": "[encoded data removed]",
            "text/plain": [
              "<Figure size 432x288 with 1 Axes>"
            ]
          },
          "metadata": {
            "needs_background": "light"
          }
        }
      ]
    },
    {
      "cell_type": "code",
      "source": [
        "income94['fnlwgt'] = income94['fnlwgt'].apply(lambda x: np.nan if x > 8000000 else x)\n",
        "# Select only data below 8000000 and make np.nan otherwise."
      ],
      "metadata": {
        "id": "LbXpwtOCCmBR"
      },
      "execution_count": 142,
      "outputs": []
    },
    {
      "cell_type": "markdown",
      "source": [
        "# Correlation"
      ],
      "metadata": {
        "id": "qeSD59R9c9yY"
      }
    },
    {
      "cell_type": "markdown",
      "source": [
        "1.\tFind the correlations between age, education_num, and hours_per_week. \n"
      ],
      "metadata": {
        "id": "aAwsTKavgsg7"
      }
    },
    {
      "cell_type": "code",
      "source": [
        "income94.corr()"
      ],
      "metadata": {
        "colab": {
          "base_uri": "https://localhost:8080/",
          "height": 238
        },
        "id": "DHpVEyhsg0EF",
        "outputId": "9a5114a5-aaf3-42d6-fad3-a1266d768f6c"
      },
      "execution_count": 143,
      "outputs": [
        {
          "output_type": "execute_result",
          "data": {
            "text/html": [
              "\n",
              "  <div id=\"df-74e9ec98-8b81-4127-b98d-36f5ee5be4ee\">\n",
              "    <div class=\"colab-df-container\">\n",
              "      <div>\n",
              "<style scoped>\n",
              "    .dataframe tbody tr th:only-of-type {\n",
              "        vertical-align: middle;\n",
              "    }\n",
              "\n",
              "    .dataframe tbody tr th {\n",
              "        vertical-align: top;\n",
              "    }\n",
              "\n",
              "    .dataframe thead th {\n",
              "        text-align: right;\n",
              "    }\n",
              "</style>\n",
              "<table border=\"1\" class=\"dataframe\">\n",
              "  <thead>\n",
              "    <tr style=\"text-align: right;\">\n",
              "      <th></th>\n",
              "      <th>age</th>\n",
              "      <th>fnlwgt</th>\n",
              "      <th>education_num</th>\n",
              "      <th>capital_gain</th>\n",
              "      <th>capital_loss</th>\n",
              "      <th>hours_per_week</th>\n",
              "    </tr>\n",
              "  </thead>\n",
              "  <tbody>\n",
              "    <tr>\n",
              "      <th>age</th>\n",
              "      <td>1.000000</td>\n",
              "      <td>-0.076646</td>\n",
              "      <td>0.036527</td>\n",
              "      <td>0.077674</td>\n",
              "      <td>0.057775</td>\n",
              "      <td>0.068756</td>\n",
              "    </tr>\n",
              "    <tr>\n",
              "      <th>fnlwgt</th>\n",
              "      <td>-0.076646</td>\n",
              "      <td>1.000000</td>\n",
              "      <td>-0.043195</td>\n",
              "      <td>0.000432</td>\n",
              "      <td>-0.010252</td>\n",
              "      <td>-0.018768</td>\n",
              "    </tr>\n",
              "    <tr>\n",
              "      <th>education_num</th>\n",
              "      <td>0.036527</td>\n",
              "      <td>-0.043195</td>\n",
              "      <td>1.000000</td>\n",
              "      <td>0.122630</td>\n",
              "      <td>0.079923</td>\n",
              "      <td>0.148123</td>\n",
              "    </tr>\n",
              "    <tr>\n",
              "      <th>capital_gain</th>\n",
              "      <td>0.077674</td>\n",
              "      <td>0.000432</td>\n",
              "      <td>0.122630</td>\n",
              "      <td>1.000000</td>\n",
              "      <td>-0.031615</td>\n",
              "      <td>0.078409</td>\n",
              "    </tr>\n",
              "    <tr>\n",
              "      <th>capital_loss</th>\n",
              "      <td>0.057775</td>\n",
              "      <td>-0.010252</td>\n",
              "      <td>0.079923</td>\n",
              "      <td>-0.031615</td>\n",
              "      <td>1.000000</td>\n",
              "      <td>0.054256</td>\n",
              "    </tr>\n",
              "    <tr>\n",
              "      <th>hours_per_week</th>\n",
              "      <td>0.068756</td>\n",
              "      <td>-0.018768</td>\n",
              "      <td>0.148123</td>\n",
              "      <td>0.078409</td>\n",
              "      <td>0.054256</td>\n",
              "      <td>1.000000</td>\n",
              "    </tr>\n",
              "  </tbody>\n",
              "</table>\n",
              "</div>\n",
              "      <button class=\"colab-df-convert\" onclick=\"convertToInteractive('df-74e9ec98-8b81-4127-b98d-36f5ee5be4ee')\"\n",
              "              title=\"Convert this dataframe to an interactive table.\"\n",
              "              style=\"display:none;\">\n",
              "        \n",
              "  <svg xmlns=\"http://www.w3.org/2000/svg\" height=\"24px\"viewBox=\"0 0 24 24\"\n",
              "       width=\"24px\">\n",
              "    <path d=\"M0 0h24v24H0V0z\" fill=\"none\"/>\n",
              "    <path d=\"M18.56 5.44l.94 2.06.94-2.06 2.06-.94-2.06-.94-.94-2.06-.94 2.06-2.06.94zm-11 1L8.5 8.5l.94-2.06 2.06-.94-2.06-.94L8.5 2.5l-.94 2.06-2.06.94zm10 10l.94 2.06.94-2.06 2.06-.94-2.06-.94-.94-2.06-.94 2.06-2.06.94z\"/><path d=\"M17.41 7.96l-1.37-1.37c-.4-.4-.92-.59-1.43-.59-.52 0-1.04.2-1.43.59L10.3 9.45l-7.72 7.72c-.78.78-.78 2.05 0 2.83L4 21.41c.39.39.9.59 1.41.59.51 0 1.02-.2 1.41-.59l7.78-7.78 2.81-2.81c.8-.78.8-2.07 0-2.86zM5.41 20L4 18.59l7.72-7.72 1.47 1.35L5.41 20z\"/>\n",
              "  </svg>\n",
              "      </button>\n",
              "      \n",
              "  <style>\n",
              "    .colab-df-container {\n",
              "      display:flex;\n",
              "      flex-wrap:wrap;\n",
              "      gap: 12px;\n",
              "    }\n",
              "\n",
              "    .colab-df-convert {\n",
              "      background-color: #E8F0FE;\n",
              "      border: none;\n",
              "      border-radius: 50%;\n",
              "      cursor: pointer;\n",
              "      display: none;\n",
              "      fill: #1967D2;\n",
              "      height: 32px;\n",
              "      padding: 0 0 0 0;\n",
              "      width: 32px;\n",
              "    }\n",
              "\n",
              "    .colab-df-convert:hover {\n",
              "      background-color: #E2EBFA;\n",
              "      box-shadow: 0px 1px 2px rgba(60, 64, 67, 0.3), 0px 1px 3px 1px rgba(60, 64, 67, 0.15);\n",
              "      fill: #174EA6;\n",
              "    }\n",
              "\n",
              "    [theme=dark] .colab-df-convert {\n",
              "      background-color: #3B4455;\n",
              "      fill: #D2E3FC;\n",
              "    }\n",
              "\n",
              "    [theme=dark] .colab-df-convert:hover {\n",
              "      background-color: #434B5C;\n",
              "      box-shadow: 0px 1px 3px 1px rgba(0, 0, 0, 0.15);\n",
              "      filter: drop-shadow(0px 1px 2px rgba(0, 0, 0, 0.3));\n",
              "      fill: #FFFFFF;\n",
              "    }\n",
              "  </style>\n",
              "\n",
              "      <script>\n",
              "        const buttonEl =\n",
              "          document.querySelector('#df-74e9ec98-8b81-4127-b98d-36f5ee5be4ee button.colab-df-convert');\n",
              "        buttonEl.style.display =\n",
              "          google.colab.kernel.accessAllowed ? 'block' : 'none';\n",
              "\n",
              "        async function convertToInteractive(key) {\n",
              "          const element = document.querySelector('#df-74e9ec98-8b81-4127-b98d-36f5ee5be4ee');\n",
              "          const dataTable =\n",
              "            await google.colab.kernel.invokeFunction('convertToInteractive',\n",
              "                                                     [key], {});\n",
              "          if (!dataTable) return;\n",
              "\n",
              "          const docLinkHtml = 'Like what you see? Visit the ' +\n",
              "            '<a target=\"_blank\" href=https://colab.research.google.com/notebooks/data_table.ipynb>data table notebook</a>'\n",
              "            + ' to learn more about interactive tables.';\n",
              "          element.innerHTML = '';\n",
              "          dataTable['output_type'] = 'display_data';\n",
              "          await google.colab.output.renderOutput(dataTable, element);\n",
              "          const docLink = document.createElement('div');\n",
              "          docLink.innerHTML = docLinkHtml;\n",
              "          element.appendChild(docLink);\n",
              "        }\n",
              "      </script>\n",
              "    </div>\n",
              "  </div>\n",
              "  "
            ],
            "text/plain": [
              "                     age    fnlwgt  ...  capital_loss  hours_per_week\n",
              "age             1.000000 -0.076646  ...      0.057775        0.068756\n",
              "fnlwgt         -0.076646  1.000000  ...     -0.010252       -0.018768\n",
              "education_num   0.036527 -0.043195  ...      0.079923        0.148123\n",
              "capital_gain    0.077674  0.000432  ...     -0.031615        0.078409\n",
              "capital_loss    0.057775 -0.010252  ...      1.000000        0.054256\n",
              "hours_per_week  0.068756 -0.018768  ...      0.054256        1.000000\n",
              "\n",
              "[6 rows x 6 columns]"
            ]
          },
          "metadata": {},
          "execution_count": 143
        }
      ]
    },
    {
      "cell_type": "markdown",
      "source": [
        "a. Do any of the variables appear to be correlated? How did you make your assessment?"
      ],
      "metadata": {
        "id": "PWvMMXv9yy3o"
      }
    },
    {
      "cell_type": "code",
      "source": [
        "columns_drop = [\"fnlwgt\",\"capital_gain\",\"capital_loss\"]\n",
        "rng = np.random.RandomState(0)\n",
        "indices = rng.choice(np.arange(income94.shape[0]),size=200,replace=False)\n",
        "income_sub = income94.iloc[indices].drop(columns = columns_drop)\n",
        "sns.pairplot(data = income_sub)"
      ],
      "metadata": {
        "colab": {
          "base_uri": "https://localhost:8080/",
          "height": 568
        },
        "id": "gSO0KQep1Mpd",
        "outputId": "3f79f055-1a5c-4ad6-82a5-245d4cc4dddd"
      },
      "execution_count": 144,
      "outputs": [
        {
          "output_type": "execute_result",
          "data": {
            "text/plain": [
              "<seaborn.axisgrid.PairGrid at 0x7f0c5143b9d0>"
            ]
          },
          "metadata": {},
          "execution_count": 144
        },
        {
          "output_type": "display_data",
          "data": {
            "image/png": "[encoded data removed]",
            "text/plain": [
              "<Figure size 540x540 with 12 Axes>"
            ]
          },
          "metadata": {
            "needs_background": "light"
          }
        }
      ]
    },
    {
      "cell_type": "markdown",
      "source": [
        "\n",
        "b. Statistically test any variable pairs with a correlation coefficient > |0.1| for its difference from 0 and report your result. Is the direction and significance of your finding as expected?"
      ],
      "metadata": {
        "id": "Kr38JVG21Nqr"
      }
    },
    {
      "cell_type": "code",
      "source": [
        "pearsonr(income94['age'], income94['education_num'])"
      ],
      "metadata": {
        "colab": {
          "base_uri": "https://localhost:8080/"
        },
        "id": "rpu79qbTy3Vt",
        "outputId": "94eafd45-0c2f-4c4e-e81e-b3389c2c0ae4"
      },
      "execution_count": 145,
      "outputs": [
        {
          "output_type": "execute_result",
          "data": {
            "text/plain": [
              "(0.03652718946410611, 4.305718002102917e-11)"
            ]
          },
          "metadata": {},
          "execution_count": 145
        }
      ]
    },
    {
      "cell_type": "code",
      "source": [
        "pearsonr(income94['age'], income94['hours_per_week'])"
      ],
      "metadata": {
        "colab": {
          "base_uri": "https://localhost:8080/"
        },
        "id": "uH_0fDCL0Xvh",
        "outputId": "89a6e414-31a3-4813-afcd-1995a3d47d89"
      },
      "execution_count": 146,
      "outputs": [
        {
          "output_type": "execute_result",
          "data": {
            "text/plain": [
              "(0.06875570750955737, 2.011285562161161e-35)"
            ]
          },
          "metadata": {},
          "execution_count": 146
        }
      ]
    },
    {
      "cell_type": "code",
      "source": [
        "pearsonr(income94['hours_per_week'], income94['education_num'])"
      ],
      "metadata": {
        "colab": {
          "base_uri": "https://localhost:8080/"
        },
        "id": "TcFFBk5j0f5b",
        "outputId": "e14c7d86-1b2f-4755-a4d2-708f5674af11"
      },
      "execution_count": 147,
      "outputs": [
        {
          "output_type": "execute_result",
          "data": {
            "text/plain": [
              "(0.1481227326229122, 4.2366474790836004e-159)"
            ]
          },
          "metadata": {},
          "execution_count": 147
        }
      ]
    },
    {
      "cell_type": "markdown",
      "source": [
        "\n",
        "\n",
        "\n",
        "\n",
        "\n",
        "c. How does the correlation (and its significance) between education_num and  age compare between male and female participants? Is this expected?\n",
        "\n",
        "\n"
      ],
      "metadata": {
        "id": "15FD4UAbdFCm"
      }
    },
    {
      "cell_type": "code",
      "source": [
        "pearsonr(income94[income94.sex == ' Female']['age'], income94[income94.sex == ' Female']['education_num'])"
      ],
      "metadata": {
        "colab": {
          "base_uri": "https://localhost:8080/"
        },
        "id": "62h18dek3NMz",
        "outputId": "84c23ab7-6454-4299-fbfb-789559dd9d36"
      },
      "execution_count": 148,
      "outputs": [
        {
          "output_type": "execute_result",
          "data": {
            "text/plain": [
              "(-0.017899243935447704, 0.06322895030804963)"
            ]
          },
          "metadata": {},
          "execution_count": 148
        }
      ]
    },
    {
      "cell_type": "code",
      "source": [
        "pearsonr(income94[income94.sex == ' Male']['age'], income94[income94.sex == ' Male']['education_num'])"
      ],
      "metadata": {
        "colab": {
          "base_uri": "https://localhost:8080/"
        },
        "id": "RPgrPH3N7sev",
        "outputId": "e0c709e1-3349-48fd-8909-2002cc1e6d5b"
      },
      "execution_count": 149,
      "outputs": [
        {
          "output_type": "execute_result",
          "data": {
            "text/plain": [
              "(0.060486409198268254, 4.0229868301718123e-19)"
            ]
          },
          "metadata": {},
          "execution_count": 149
        }
      ]
    },
    {
      "cell_type": "markdown",
      "source": [
        "d. Compute the covariance matrix for education_num and hours_per_week. What conclusions can you draw from the covariance matrix?"
      ],
      "metadata": {
        "id": "6wwRBZsV8ans"
      }
    },
    {
      "cell_type": "code",
      "source": [
        "income94.drop(columns= ['age','fnlwgt','capital_gain','capital_loss']).cov()"
      ],
      "metadata": {
        "colab": {
          "base_uri": "https://localhost:8080/",
          "height": 112
        },
        "id": "0P9MAfHq8cuG",
        "outputId": "c02e1e01-c86d-4c71-c8db-9d6ae059bfdc"
      },
      "execution_count": 150,
      "outputs": [
        {
          "output_type": "execute_result",
          "data": {
            "text/html": [
              "\n",
              "  <div id=\"df-ebee66a5-5610-4956-b85c-e4a3167d2377\">\n",
              "    <div class=\"colab-df-container\">\n",
              "      <div>\n",
              "<style scoped>\n",
              "    .dataframe tbody tr th:only-of-type {\n",
              "        vertical-align: middle;\n",
              "    }\n",
              "\n",
              "    .dataframe tbody tr th {\n",
              "        vertical-align: top;\n",
              "    }\n",
              "\n",
              "    .dataframe thead th {\n",
              "        text-align: right;\n",
              "    }\n",
              "</style>\n",
              "<table border=\"1\" class=\"dataframe\">\n",
              "  <thead>\n",
              "    <tr style=\"text-align: right;\">\n",
              "      <th></th>\n",
              "      <th>education_num</th>\n",
              "      <th>hours_per_week</th>\n",
              "    </tr>\n",
              "  </thead>\n",
              "  <tbody>\n",
              "    <tr>\n",
              "      <th>education_num</th>\n",
              "      <td>6.618890</td>\n",
              "      <td>4.705338</td>\n",
              "    </tr>\n",
              "    <tr>\n",
              "      <th>hours_per_week</th>\n",
              "      <td>4.705338</td>\n",
              "      <td>152.458995</td>\n",
              "    </tr>\n",
              "  </tbody>\n",
              "</table>\n",
              "</div>\n",
              "      <button class=\"colab-df-convert\" onclick=\"convertToInteractive('df-ebee66a5-5610-4956-b85c-e4a3167d2377')\"\n",
              "              title=\"Convert this dataframe to an interactive table.\"\n",
              "              style=\"display:none;\">\n",
              "        \n",
              "  <svg xmlns=\"http://www.w3.org/2000/svg\" height=\"24px\"viewBox=\"0 0 24 24\"\n",
              "       width=\"24px\">\n",
              "    <path d=\"M0 0h24v24H0V0z\" fill=\"none\"/>\n",
              "    <path d=\"M18.56 5.44l.94 2.06.94-2.06 2.06-.94-2.06-.94-.94-2.06-.94 2.06-2.06.94zm-11 1L8.5 8.5l.94-2.06 2.06-.94-2.06-.94L8.5 2.5l-.94 2.06-2.06.94zm10 10l.94 2.06.94-2.06 2.06-.94-2.06-.94-.94-2.06-.94 2.06-2.06.94z\"/><path d=\"M17.41 7.96l-1.37-1.37c-.4-.4-.92-.59-1.43-.59-.52 0-1.04.2-1.43.59L10.3 9.45l-7.72 7.72c-.78.78-.78 2.05 0 2.83L4 21.41c.39.39.9.59 1.41.59.51 0 1.02-.2 1.41-.59l7.78-7.78 2.81-2.81c.8-.78.8-2.07 0-2.86zM5.41 20L4 18.59l7.72-7.72 1.47 1.35L5.41 20z\"/>\n",
              "  </svg>\n",
              "      </button>\n",
              "      \n",
              "  <style>\n",
              "    .colab-df-container {\n",
              "      display:flex;\n",
              "      flex-wrap:wrap;\n",
              "      gap: 12px;\n",
              "    }\n",
              "\n",
              "    .colab-df-convert {\n",
              "      background-color: #E8F0FE;\n",
              "      border: none;\n",
              "      border-radius: 50%;\n",
              "      cursor: pointer;\n",
              "      display: none;\n",
              "      fill: #1967D2;\n",
              "      height: 32px;\n",
              "      padding: 0 0 0 0;\n",
              "      width: 32px;\n",
              "    }\n",
              "\n",
              "    .colab-df-convert:hover {\n",
              "      background-color: #E2EBFA;\n",
              "      box-shadow: 0px 1px 2px rgba(60, 64, 67, 0.3), 0px 1px 3px 1px rgba(60, 64, 67, 0.15);\n",
              "      fill: #174EA6;\n",
              "    }\n",
              "\n",
              "    [theme=dark] .colab-df-convert {\n",
              "      background-color: #3B4455;\n",
              "      fill: #D2E3FC;\n",
              "    }\n",
              "\n",
              "    [theme=dark] .colab-df-convert:hover {\n",
              "      background-color: #434B5C;\n",
              "      box-shadow: 0px 1px 3px 1px rgba(0, 0, 0, 0.15);\n",
              "      filter: drop-shadow(0px 1px 2px rgba(0, 0, 0, 0.3));\n",
              "      fill: #FFFFFF;\n",
              "    }\n",
              "  </style>\n",
              "\n",
              "      <script>\n",
              "        const buttonEl =\n",
              "          document.querySelector('#df-ebee66a5-5610-4956-b85c-e4a3167d2377 button.colab-df-convert');\n",
              "        buttonEl.style.display =\n",
              "          google.colab.kernel.accessAllowed ? 'block' : 'none';\n",
              "\n",
              "        async function convertToInteractive(key) {\n",
              "          const element = document.querySelector('#df-ebee66a5-5610-4956-b85c-e4a3167d2377');\n",
              "          const dataTable =\n",
              "            await google.colab.kernel.invokeFunction('convertToInteractive',\n",
              "                                                     [key], {});\n",
              "          if (!dataTable) return;\n",
              "\n",
              "          const docLinkHtml = 'Like what you see? Visit the ' +\n",
              "            '<a target=\"_blank\" href=https://colab.research.google.com/notebooks/data_table.ipynb>data table notebook</a>'\n",
              "            + ' to learn more about interactive tables.';\n",
              "          element.innerHTML = '';\n",
              "          dataTable['output_type'] = 'display_data';\n",
              "          await google.colab.output.renderOutput(dataTable, element);\n",
              "          const docLink = document.createElement('div');\n",
              "          docLink.innerHTML = docLinkHtml;\n",
              "          element.appendChild(docLink);\n",
              "        }\n",
              "      </script>\n",
              "    </div>\n",
              "  </div>\n",
              "  "
            ],
            "text/plain": [
              "                education_num  hours_per_week\n",
              "education_num        6.618890        4.705338\n",
              "hours_per_week       4.705338      152.458995"
            ]
          },
          "metadata": {},
          "execution_count": 150
        }
      ]
    },
    {
      "cell_type": "markdown",
      "source": [
        "# Regression"
      ],
      "metadata": {
        "id": "vxveMfmmME2G"
      }
    },
    {
      "cell_type": "markdown",
      "source": [
        "1. Fit a linear regression with hours_per_week as the dependent variable and sex as the independent variable."
      ],
      "metadata": {
        "id": "YtfqU87CMH6-"
      }
    },
    {
      "cell_type": "code",
      "source": [
        "reg = smf.ols('hours_per_week~sex', data = income94).fit()\n",
        "income94['sex_n'] = income94['sex'].apply(lambda x: 1 if x == ' Male' else 0)\n",
        "sns.regplot(y='hours_per_week', x='sex_n', data = income94)\n",
        "plt.title('Linear regression model between hours_per_week and sex')\n",
        "plt.show()"
      ],
      "metadata": {
        "colab": {
          "base_uri": "https://localhost:8080/",
          "height": 295
        },
        "id": "4piDF77yNFEE",
        "outputId": "85a27168-fed4-4b85-8c71-7157f8a75ad5"
      },
      "execution_count": 151,
      "outputs": [
        {
          "output_type": "display_data",
          "data": {
            "image/png": "[encoded data removed]",
            "text/plain": [
              "<Figure size 432x288 with 1 Axes>"
            ]
          },
          "metadata": {
            "needs_background": "light"
          }
        }
      ]
    },
    {
      "cell_type": "markdown",
      "source": [
        "a. Do men tend to work more hours? "
      ],
      "metadata": {
        "id": "AJpSIAVeMLNW"
      }
    },
    {
      "cell_type": "code",
      "source": [
        "reg.summary()"
      ],
      "metadata": {
        "colab": {
          "base_uri": "https://localhost:8080/",
          "height": 444
        },
        "id": "GftNNE_kPmTT",
        "outputId": "22cee0a2-98db-4af2-a8cd-a4e113b023df"
      },
      "execution_count": 152,
      "outputs": [
        {
          "output_type": "execute_result",
          "data": {
            "text/html": [
              "<table class=\"simpletable\">\n",
              "<caption>OLS Regression Results</caption>\n",
              "<tr>\n",
              "  <th>Dep. Variable:</th>     <td>hours_per_week</td>  <th>  R-squared:         </th>  <td>   0.053</td>  \n",
              "</tr>\n",
              "<tr>\n",
              "  <th>Model:</th>                   <td>OLS</td>       <th>  Adj. R-squared:    </th>  <td>   0.053</td>  \n",
              "</tr>\n",
              "<tr>\n",
              "  <th>Method:</th>             <td>Least Squares</td>  <th>  F-statistic:       </th>  <td>   1807.</td>  \n",
              "</tr>\n",
              "<tr>\n",
              "  <th>Date:</th>             <td>Mon, 14 Feb 2022</td> <th>  Prob (F-statistic):</th>   <td>  0.00</td>   \n",
              "</tr>\n",
              "<tr>\n",
              "  <th>Time:</th>                 <td>09:06:56</td>     <th>  Log-Likelihood:    </th> <td>-1.2716e+05</td>\n",
              "</tr>\n",
              "<tr>\n",
              "  <th>No. Observations:</th>      <td> 32561</td>      <th>  AIC:               </th>  <td>2.543e+05</td> \n",
              "</tr>\n",
              "<tr>\n",
              "  <th>Df Residuals:</th>          <td> 32559</td>      <th>  BIC:               </th>  <td>2.543e+05</td> \n",
              "</tr>\n",
              "<tr>\n",
              "  <th>Df Model:</th>              <td>     1</td>      <th>                     </th>      <td> </td>     \n",
              "</tr>\n",
              "<tr>\n",
              "  <th>Covariance Type:</th>      <td>nonrobust</td>    <th>                     </th>      <td> </td>     \n",
              "</tr>\n",
              "</table>\n",
              "<table class=\"simpletable\">\n",
              "<tr>\n",
              "        <td></td>          <th>coef</th>     <th>std err</th>      <th>t</th>      <th>P>|t|</th>  <th>[0.025</th>    <th>0.975]</th>  \n",
              "</tr>\n",
              "<tr>\n",
              "  <th>Intercept</th>    <td>   36.4104</td> <td>    0.116</td> <td>  314.412</td> <td> 0.000</td> <td>   36.183</td> <td>   36.637</td>\n",
              "</tr>\n",
              "<tr>\n",
              "  <th>sex[T. Male]</th> <td>    6.0177</td> <td>    0.142</td> <td>   42.510</td> <td> 0.000</td> <td>    5.740</td> <td>    6.295</td>\n",
              "</tr>\n",
              "</table>\n",
              "<table class=\"simpletable\">\n",
              "<tr>\n",
              "  <th>Omnibus:</th>       <td>2649.390</td> <th>  Durbin-Watson:     </th> <td>   2.019</td> \n",
              "</tr>\n",
              "<tr>\n",
              "  <th>Prob(Omnibus):</th>  <td> 0.000</td>  <th>  Jarque-Bera (JB):  </th> <td>13090.867</td>\n",
              "</tr>\n",
              "<tr>\n",
              "  <th>Skew:</th>           <td> 0.239</td>  <th>  Prob(JB):          </th> <td>    0.00</td> \n",
              "</tr>\n",
              "<tr>\n",
              "  <th>Kurtosis:</th>       <td> 6.069</td>  <th>  Cond. No.          </th> <td>    3.24</td> \n",
              "</tr>\n",
              "</table><br/><br/>Warnings:<br/>[1] Standard Errors assume that the covariance matrix of the errors is correctly specified."
            ],
            "text/plain": [
              "<class 'statsmodels.iolib.summary.Summary'>\n",
              "\"\"\"\n",
              "                            OLS Regression Results                            \n",
              "==============================================================================\n",
              "Dep. Variable:         hours_per_week   R-squared:                       0.053\n",
              "Model:                            OLS   Adj. R-squared:                  0.053\n",
              "Method:                 Least Squares   F-statistic:                     1807.\n",
              "Date:                Mon, 14 Feb 2022   Prob (F-statistic):               0.00\n",
              "Time:                        09:06:56   Log-Likelihood:            -1.2716e+05\n",
              "No. Observations:               32561   AIC:                         2.543e+05\n",
              "Df Residuals:                   32559   BIC:                         2.543e+05\n",
              "Df Model:                           1                                         \n",
              "Covariance Type:            nonrobust                                         \n",
              "================================================================================\n",
              "                   coef    std err          t      P>|t|      [0.025      0.975]\n",
              "--------------------------------------------------------------------------------\n",
              "Intercept       36.4104      0.116    314.412      0.000      36.183      36.637\n",
              "sex[T. Male]     6.0177      0.142     42.510      0.000       5.740       6.295\n",
              "==============================================================================\n",
              "Omnibus:                     2649.390   Durbin-Watson:                   2.019\n",
              "Prob(Omnibus):                  0.000   Jarque-Bera (JB):            13090.867\n",
              "Skew:                           0.239   Prob(JB):                         0.00\n",
              "Kurtosis:                       6.069   Cond. No.                         3.24\n",
              "==============================================================================\n",
              "\n",
              "Warnings:\n",
              "[1] Standard Errors assume that the covariance matrix of the errors is correctly specified.\n",
              "\"\"\""
            ]
          },
          "metadata": {},
          "execution_count": 152
        }
      ]
    },
    {
      "cell_type": "markdown",
      "source": [
        "b. Add education_num as a control variable, does the trend in hours worked by men vs women remain the same? Is the coefficient for education_num statistically significant? What is the 95% confidence interval?"
      ],
      "metadata": {
        "id": "ql1terCrMPWu"
      }
    },
    {
      "cell_type": "code",
      "source": [
        "reg2 = smf.ols('hours_per_week~sex + education_num', data = income94).fit()\n",
        "reg2.summary()"
      ],
      "metadata": {
        "colab": {
          "base_uri": "https://localhost:8080/",
          "height": 465
        },
        "id": "Mxwu4wjuVYez",
        "outputId": "3397886e-904d-47f9-dab0-2320d299fe10"
      },
      "execution_count": 153,
      "outputs": [
        {
          "output_type": "execute_result",
          "data": {
            "text/html": [
              "<table class=\"simpletable\">\n",
              "<caption>OLS Regression Results</caption>\n",
              "<tr>\n",
              "  <th>Dep. Variable:</th>     <td>hours_per_week</td>  <th>  R-squared:         </th>  <td>   0.074</td>  \n",
              "</tr>\n",
              "<tr>\n",
              "  <th>Model:</th>                   <td>OLS</td>       <th>  Adj. R-squared:    </th>  <td>   0.074</td>  \n",
              "</tr>\n",
              "<tr>\n",
              "  <th>Method:</th>             <td>Least Squares</td>  <th>  F-statistic:       </th>  <td>   1295.</td>  \n",
              "</tr>\n",
              "<tr>\n",
              "  <th>Date:</th>             <td>Mon, 14 Feb 2022</td> <th>  Prob (F-statistic):</th>   <td>  0.00</td>   \n",
              "</tr>\n",
              "<tr>\n",
              "  <th>Time:</th>                 <td>09:06:58</td>     <th>  Log-Likelihood:    </th> <td>-1.2680e+05</td>\n",
              "</tr>\n",
              "<tr>\n",
              "  <th>No. Observations:</th>      <td> 32561</td>      <th>  AIC:               </th>  <td>2.536e+05</td> \n",
              "</tr>\n",
              "<tr>\n",
              "  <th>Df Residuals:</th>          <td> 32558</td>      <th>  BIC:               </th>  <td>2.536e+05</td> \n",
              "</tr>\n",
              "<tr>\n",
              "  <th>Df Model:</th>              <td>     2</td>      <th>                     </th>      <td> </td>     \n",
              "</tr>\n",
              "<tr>\n",
              "  <th>Covariance Type:</th>      <td>nonrobust</td>    <th>                     </th>      <td> </td>     \n",
              "</tr>\n",
              "</table>\n",
              "<table class=\"simpletable\">\n",
              "<tr>\n",
              "        <td></td>           <th>coef</th>     <th>std err</th>      <th>t</th>      <th>P>|t|</th>  <th>[0.025</th>    <th>0.975]</th>  \n",
              "</tr>\n",
              "<tr>\n",
              "  <th>Intercept</th>     <td>   29.4106</td> <td>    0.281</td> <td>  104.556</td> <td> 0.000</td> <td>   28.859</td> <td>   29.962</td>\n",
              "</tr>\n",
              "<tr>\n",
              "  <th>sex[T. Male]</th>  <td>    5.9709</td> <td>    0.140</td> <td>   42.653</td> <td> 0.000</td> <td>    5.697</td> <td>    6.245</td>\n",
              "</tr>\n",
              "<tr>\n",
              "  <th>education_num</th> <td>    0.6975</td> <td>    0.026</td> <td>   27.244</td> <td> 0.000</td> <td>    0.647</td> <td>    0.748</td>\n",
              "</tr>\n",
              "</table>\n",
              "<table class=\"simpletable\">\n",
              "<tr>\n",
              "  <th>Omnibus:</th>       <td>2783.881</td> <th>  Durbin-Watson:     </th> <td>   2.018</td> \n",
              "</tr>\n",
              "<tr>\n",
              "  <th>Prob(Omnibus):</th>  <td> 0.000</td>  <th>  Jarque-Bera (JB):  </th> <td>14492.060</td>\n",
              "</tr>\n",
              "<tr>\n",
              "  <th>Skew:</th>           <td> 0.247</td>  <th>  Prob(JB):          </th> <td>    0.00</td> \n",
              "</tr>\n",
              "<tr>\n",
              "  <th>Kurtosis:</th>       <td> 6.231</td>  <th>  Cond. No.          </th> <td>    45.6</td> \n",
              "</tr>\n",
              "</table><br/><br/>Warnings:<br/>[1] Standard Errors assume that the covariance matrix of the errors is correctly specified."
            ],
            "text/plain": [
              "<class 'statsmodels.iolib.summary.Summary'>\n",
              "\"\"\"\n",
              "                            OLS Regression Results                            \n",
              "==============================================================================\n",
              "Dep. Variable:         hours_per_week   R-squared:                       0.074\n",
              "Model:                            OLS   Adj. R-squared:                  0.074\n",
              "Method:                 Least Squares   F-statistic:                     1295.\n",
              "Date:                Mon, 14 Feb 2022   Prob (F-statistic):               0.00\n",
              "Time:                        09:06:58   Log-Likelihood:            -1.2680e+05\n",
              "No. Observations:               32561   AIC:                         2.536e+05\n",
              "Df Residuals:                   32558   BIC:                         2.536e+05\n",
              "Df Model:                           2                                         \n",
              "Covariance Type:            nonrobust                                         \n",
              "=================================================================================\n",
              "                    coef    std err          t      P>|t|      [0.025      0.975]\n",
              "---------------------------------------------------------------------------------\n",
              "Intercept        29.4106      0.281    104.556      0.000      28.859      29.962\n",
              "sex[T. Male]      5.9709      0.140     42.653      0.000       5.697       6.245\n",
              "education_num     0.6975      0.026     27.244      0.000       0.647       0.748\n",
              "==============================================================================\n",
              "Omnibus:                     2783.881   Durbin-Watson:                   2.018\n",
              "Prob(Omnibus):                  0.000   Jarque-Bera (JB):            14492.060\n",
              "Skew:                           0.247   Prob(JB):                         0.00\n",
              "Kurtosis:                       6.231   Cond. No.                         45.6\n",
              "==============================================================================\n",
              "\n",
              "Warnings:\n",
              "[1] Standard Errors assume that the covariance matrix of the errors is correctly specified.\n",
              "\"\"\""
            ]
          },
          "metadata": {},
          "execution_count": 153
        }
      ]
    },
    {
      "cell_type": "markdown",
      "source": [
        "c. Now add gross_income_group as a binary variable in the model and compare this model with the models including (i) only sex and (ii) sex and education_num.  Write down the interpretation for the coefficient for sex in each model.  What statistic(s) can help to decide which model is the “best”?  How do the three models compare?"
      ],
      "metadata": {
        "id": "lXSm9449MsVW"
      }
    },
    {
      "cell_type": "code",
      "source": [
        "income94['gross_income_group_bi'] = income94['gross_income_group'].apply(lambda x: 0 if x == ' <=50K' else 1)\n",
        "reg3 = smf.ols('hours_per_week~sex + education_num + gross_income_group_bi', data = income94).fit()\n",
        "reg3.summary()"
      ],
      "metadata": {
        "colab": {
          "base_uri": "https://localhost:8080/",
          "height": 486
        },
        "id": "OUYHofZJYUkb",
        "outputId": "a86f4fdc-56a3-4b7f-ed42-aed61f34cc10"
      },
      "execution_count": 154,
      "outputs": [
        {
          "output_type": "execute_result",
          "data": {
            "text/html": [
              "<table class=\"simpletable\">\n",
              "<caption>OLS Regression Results</caption>\n",
              "<tr>\n",
              "  <th>Dep. Variable:</th>     <td>hours_per_week</td>  <th>  R-squared:         </th>  <td>   0.094</td>  \n",
              "</tr>\n",
              "<tr>\n",
              "  <th>Model:</th>                   <td>OLS</td>       <th>  Adj. R-squared:    </th>  <td>   0.094</td>  \n",
              "</tr>\n",
              "<tr>\n",
              "  <th>Method:</th>             <td>Least Squares</td>  <th>  F-statistic:       </th>  <td>   1130.</td>  \n",
              "</tr>\n",
              "<tr>\n",
              "  <th>Date:</th>             <td>Mon, 14 Feb 2022</td> <th>  Prob (F-statistic):</th>   <td>  0.00</td>   \n",
              "</tr>\n",
              "<tr>\n",
              "  <th>Time:</th>                 <td>09:07:03</td>     <th>  Log-Likelihood:    </th> <td>-1.2643e+05</td>\n",
              "</tr>\n",
              "<tr>\n",
              "  <th>No. Observations:</th>      <td> 32561</td>      <th>  AIC:               </th>  <td>2.529e+05</td> \n",
              "</tr>\n",
              "<tr>\n",
              "  <th>Df Residuals:</th>          <td> 32557</td>      <th>  BIC:               </th>  <td>2.529e+05</td> \n",
              "</tr>\n",
              "<tr>\n",
              "  <th>Df Model:</th>              <td>     3</td>      <th>                     </th>      <td> </td>     \n",
              "</tr>\n",
              "<tr>\n",
              "  <th>Covariance Type:</th>      <td>nonrobust</td>    <th>                     </th>      <td> </td>     \n",
              "</tr>\n",
              "</table>\n",
              "<table class=\"simpletable\">\n",
              "<tr>\n",
              "            <td></td>               <th>coef</th>     <th>std err</th>      <th>t</th>      <th>P>|t|</th>  <th>[0.025</th>    <th>0.975]</th>  \n",
              "</tr>\n",
              "<tr>\n",
              "  <th>Intercept</th>             <td>   31.4218</td> <td>    0.288</td> <td>  109.184</td> <td> 0.000</td> <td>   30.858</td> <td>   31.986</td>\n",
              "</tr>\n",
              "<tr>\n",
              "  <th>sex[T. Male]</th>          <td>    5.1010</td> <td>    0.142</td> <td>   35.907</td> <td> 0.000</td> <td>    4.823</td> <td>    5.379</td>\n",
              "</tr>\n",
              "<tr>\n",
              "  <th>education_num</th>         <td>    0.4478</td> <td>    0.027</td> <td>   16.632</td> <td> 0.000</td> <td>    0.395</td> <td>    0.501</td>\n",
              "</tr>\n",
              "<tr>\n",
              "  <th>gross_income_group_bi</th> <td>    4.5175</td> <td>    0.166</td> <td>   27.229</td> <td> 0.000</td> <td>    4.192</td> <td>    4.843</td>\n",
              "</tr>\n",
              "</table>\n",
              "<table class=\"simpletable\">\n",
              "<tr>\n",
              "  <th>Omnibus:</th>       <td>2984.190</td> <th>  Durbin-Watson:     </th> <td>   2.015</td> \n",
              "</tr>\n",
              "<tr>\n",
              "  <th>Prob(Omnibus):</th>  <td> 0.000</td>  <th>  Jarque-Bera (JB):  </th> <td>15467.160</td>\n",
              "</tr>\n",
              "<tr>\n",
              "  <th>Skew:</th>           <td> 0.296</td>  <th>  Prob(JB):          </th> <td>    0.00</td> \n",
              "</tr>\n",
              "<tr>\n",
              "  <th>Kurtosis:</th>       <td> 6.324</td>  <th>  Cond. No.          </th> <td>    48.1</td> \n",
              "</tr>\n",
              "</table><br/><br/>Warnings:<br/>[1] Standard Errors assume that the covariance matrix of the errors is correctly specified."
            ],
            "text/plain": [
              "<class 'statsmodels.iolib.summary.Summary'>\n",
              "\"\"\"\n",
              "                            OLS Regression Results                            \n",
              "==============================================================================\n",
              "Dep. Variable:         hours_per_week   R-squared:                       0.094\n",
              "Model:                            OLS   Adj. R-squared:                  0.094\n",
              "Method:                 Least Squares   F-statistic:                     1130.\n",
              "Date:                Mon, 14 Feb 2022   Prob (F-statistic):               0.00\n",
              "Time:                        09:07:03   Log-Likelihood:            -1.2643e+05\n",
              "No. Observations:               32561   AIC:                         2.529e+05\n",
              "Df Residuals:                   32557   BIC:                         2.529e+05\n",
              "Df Model:                           3                                         \n",
              "Covariance Type:            nonrobust                                         \n",
              "=========================================================================================\n",
              "                            coef    std err          t      P>|t|      [0.025      0.975]\n",
              "-----------------------------------------------------------------------------------------\n",
              "Intercept                31.4218      0.288    109.184      0.000      30.858      31.986\n",
              "sex[T. Male]              5.1010      0.142     35.907      0.000       4.823       5.379\n",
              "education_num             0.4478      0.027     16.632      0.000       0.395       0.501\n",
              "gross_income_group_bi     4.5175      0.166     27.229      0.000       4.192       4.843\n",
              "==============================================================================\n",
              "Omnibus:                     2984.190   Durbin-Watson:                   2.015\n",
              "Prob(Omnibus):                  0.000   Jarque-Bera (JB):            15467.160\n",
              "Skew:                           0.296   Prob(JB):                         0.00\n",
              "Kurtosis:                       6.324   Cond. No.                         48.1\n",
              "==============================================================================\n",
              "\n",
              "Warnings:\n",
              "[1] Standard Errors assume that the covariance matrix of the errors is correctly specified.\n",
              "\"\"\""
            ]
          },
          "metadata": {},
          "execution_count": 154
        }
      ]
    },
    {
      "cell_type": "markdown",
      "source": [
        "PART III"
      ],
      "metadata": {
        "id": "jwAr3NvUfHW2"
      }
    },
    {
      "cell_type": "code",
      "source": [
        "old_group = income94[income94.age >= 50]\n",
        "reg4 = smf.ols('hours_per_week~age', data = old_group).fit()\n",
        "reg4.summary()\n"
      ],
      "metadata": {
        "colab": {
          "base_uri": "https://localhost:8080/",
          "height": 444
        },
        "id": "P3acFSeFfKFN",
        "outputId": "c32385c9-575a-47fb-f6d7-45079985ba6e"
      },
      "execution_count": 159,
      "outputs": [
        {
          "output_type": "execute_result",
          "data": {
            "text/html": [
              "<table class=\"simpletable\">\n",
              "<caption>OLS Regression Results</caption>\n",
              "<tr>\n",
              "  <th>Dep. Variable:</th>     <td>hours_per_week</td>  <th>  R-squared:         </th> <td>   0.127</td> \n",
              "</tr>\n",
              "<tr>\n",
              "  <th>Model:</th>                   <td>OLS</td>       <th>  Adj. R-squared:    </th> <td>   0.127</td> \n",
              "</tr>\n",
              "<tr>\n",
              "  <th>Method:</th>             <td>Least Squares</td>  <th>  F-statistic:       </th> <td>   1024.</td> \n",
              "</tr>\n",
              "<tr>\n",
              "  <th>Date:</th>             <td>Mon, 14 Feb 2022</td> <th>  Prob (F-statistic):</th> <td>5.72e-210</td>\n",
              "</tr>\n",
              "<tr>\n",
              "  <th>Time:</th>                 <td>09:26:20</td>     <th>  Log-Likelihood:    </th> <td> -28006.</td> \n",
              "</tr>\n",
              "<tr>\n",
              "  <th>No. Observations:</th>      <td>  7062</td>      <th>  AIC:               </th> <td>5.602e+04</td>\n",
              "</tr>\n",
              "<tr>\n",
              "  <th>Df Residuals:</th>          <td>  7060</td>      <th>  BIC:               </th> <td>5.603e+04</td>\n",
              "</tr>\n",
              "<tr>\n",
              "  <th>Df Model:</th>              <td>     1</td>      <th>                     </th>     <td> </td>    \n",
              "</tr>\n",
              "<tr>\n",
              "  <th>Covariance Type:</th>      <td>nonrobust</td>    <th>                     </th>     <td> </td>    \n",
              "</tr>\n",
              "</table>\n",
              "<table class=\"simpletable\">\n",
              "<tr>\n",
              "      <td></td>         <th>coef</th>     <th>std err</th>      <th>t</th>      <th>P>|t|</th>  <th>[0.025</th>    <th>0.975]</th>  \n",
              "</tr>\n",
              "<tr>\n",
              "  <th>Intercept</th> <td>   77.5402</td> <td>    1.200</td> <td>   64.618</td> <td> 0.000</td> <td>   75.188</td> <td>   79.893</td>\n",
              "</tr>\n",
              "<tr>\n",
              "  <th>age</th>       <td>   -0.6499</td> <td>    0.020</td> <td>  -32.002</td> <td> 0.000</td> <td>   -0.690</td> <td>   -0.610</td>\n",
              "</tr>\n",
              "</table>\n",
              "<table class=\"simpletable\">\n",
              "<tr>\n",
              "  <th>Omnibus:</th>       <td>795.531</td> <th>  Durbin-Watson:     </th> <td>   2.026</td>\n",
              "</tr>\n",
              "<tr>\n",
              "  <th>Prob(Omnibus):</th> <td> 0.000</td>  <th>  Jarque-Bera (JB):  </th> <td>3073.547</td>\n",
              "</tr>\n",
              "<tr>\n",
              "  <th>Skew:</th>          <td> 0.520</td>  <th>  Prob(JB):          </th> <td>    0.00</td>\n",
              "</tr>\n",
              "<tr>\n",
              "  <th>Kurtosis:</th>      <td> 6.060</td>  <th>  Cond. No.          </th> <td>    467.</td>\n",
              "</tr>\n",
              "</table><br/><br/>Warnings:<br/>[1] Standard Errors assume that the covariance matrix of the errors is correctly specified."
            ],
            "text/plain": [
              "<class 'statsmodels.iolib.summary.Summary'>\n",
              "\"\"\"\n",
              "                            OLS Regression Results                            \n",
              "==============================================================================\n",
              "Dep. Variable:         hours_per_week   R-squared:                       0.127\n",
              "Model:                            OLS   Adj. R-squared:                  0.127\n",
              "Method:                 Least Squares   F-statistic:                     1024.\n",
              "Date:                Mon, 14 Feb 2022   Prob (F-statistic):          5.72e-210\n",
              "Time:                        09:26:20   Log-Likelihood:                -28006.\n",
              "No. Observations:                7062   AIC:                         5.602e+04\n",
              "Df Residuals:                    7060   BIC:                         5.603e+04\n",
              "Df Model:                           1                                         \n",
              "Covariance Type:            nonrobust                                         \n",
              "==============================================================================\n",
              "                 coef    std err          t      P>|t|      [0.025      0.975]\n",
              "------------------------------------------------------------------------------\n",
              "Intercept     77.5402      1.200     64.618      0.000      75.188      79.893\n",
              "age           -0.6499      0.020    -32.002      0.000      -0.690      -0.610\n",
              "==============================================================================\n",
              "Omnibus:                      795.531   Durbin-Watson:                   2.026\n",
              "Prob(Omnibus):                  0.000   Jarque-Bera (JB):             3073.547\n",
              "Skew:                           0.520   Prob(JB):                         0.00\n",
              "Kurtosis:                       6.060   Cond. No.                         467.\n",
              "==============================================================================\n",
              "\n",
              "Warnings:\n",
              "[1] Standard Errors assume that the covariance matrix of the errors is correctly specified.\n",
              "\"\"\""
            ]
          },
          "metadata": {},
          "execution_count": 159
        }
      ]
    },
    {
      "cell_type": "code",
      "source": [
        "sns.regplot(y='hours_per_week', x='age', data = old_group)\n",
        "plt.title('Linear regression model between hours_per_week and age')\n",
        "plt.show()"
      ],
      "metadata": {
        "colab": {
          "base_uri": "https://localhost:8080/",
          "height": 295
        },
        "id": "jUh4aspbu7Qv",
        "outputId": "d4446bf8-a73c-4411-abf4-ff9b00980067"
      },
      "execution_count": 160,
      "outputs": [
        {
          "output_type": "display_data",
          "data": {
            "image/png": "[encoded data removed]",
            "text/plain": [
              "<Figure size 432x288 with 1 Axes>"
            ]
          },
          "metadata": {
            "needs_background": "light"
          }
        }
      ]
    }
  ]
}